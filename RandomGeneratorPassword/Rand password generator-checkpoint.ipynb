{
 "cells": [
  {
   "cell_type": "code",
   "execution_count": 1,
   "id": "308a3de2",
   "metadata": {},
   "outputs": [
    {
     "name": "stdout",
     "output_type": "stream",
     "text": [
      "Welcome to random password genearator!\n",
      "Please Enter the number of password to be generated5\n",
      "Enter the lenght of pwd needed:6\n",
      "Here Your random passwords\n",
      "lgc2n2\n",
      "DSxHHq\n",
      "2C4OJR\n",
      "d32Y0V\n",
      "b7X4Lv\n"
     ]
    }
   ],
   "source": [
    "import random\n",
    "print(\"Welcome to random password genearator!\")\n",
    "randomChars=\"ABCDEFGHIJKLMNOPQRSTUVWXYZabcdefghijklmnopqrstuvwxyz1234567890!@#$%&\"\n",
    "noOfPwd=int(input(\"Please Enter the number of password to be generated\"))\n",
    "pwlen=int(input(\"Enter the lenght of pwd needed:\"))\n",
    "\n",
    "print(\"Here Your random passwords\")\n",
    "for i in range(noOfPwd):\n",
    "    pwd=\"\"\n",
    "    for char in range(pwlen):\n",
    "        pwd=pwd+random.choice(randomChars)\n",
    "    print(pwd)"
   ]
  },
  {
   "cell_type": "code",
   "execution_count": null,
   "id": "8233d392",
   "metadata": {},
   "outputs": [],
   "source": []
  }
 ],
 "metadata": {
  "kernelspec": {
   "display_name": "Python 3 (ipykernel)",
   "language": "python",
   "name": "python3"
  },
  "language_info": {
   "codemirror_mode": {
    "name": "ipython",
    "version": 3
   },
   "file_extension": ".py",
   "mimetype": "text/x-python",
   "name": "python",
   "nbconvert_exporter": "python",
   "pygments_lexer": "ipython3",
   "version": "3.11.4"
  }
 },
 "nbformat": 4,
 "nbformat_minor": 5
}
